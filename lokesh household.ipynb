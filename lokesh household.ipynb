{
 "cells": [
  {
   "cell_type": "code",
   "execution_count": 1,
   "id": "de88f8be-9e6e-40a9-8811-03d088a3cea0",
   "metadata": {},
   "outputs": [],
   "source": [
    "import pandas as pd\n",
    "import matplotlib.pyplot as plt\n",
    "import seaborn as sns"
   ]
  },
  {
   "cell_type": "code",
   "execution_count": 2,
   "id": "0bdf1b22-3153-4427-9285-0818262f2314",
   "metadata": {},
   "outputs": [
    {
     "data": {
      "text/html": [
       "<div>\n",
       "<style scoped>\n",
       "    .dataframe tbody tr th:only-of-type {\n",
       "        vertical-align: middle;\n",
       "    }\n",
       "\n",
       "    .dataframe tbody tr th {\n",
       "        vertical-align: top;\n",
       "    }\n",
       "\n",
       "    .dataframe thead th {\n",
       "        text-align: right;\n",
       "    }\n",
       "</style>\n",
       "<table border=\"1\" class=\"dataframe\">\n",
       "  <thead>\n",
       "    <tr style=\"text-align: right;\">\n",
       "      <th></th>\n",
       "      <th>num_rooms</th>\n",
       "      <th>num_people</th>\n",
       "      <th>housearea</th>\n",
       "      <th>is_ac</th>\n",
       "      <th>is_tv</th>\n",
       "      <th>is_flat</th>\n",
       "      <th>ave_monthly_income</th>\n",
       "      <th>num_children</th>\n",
       "      <th>is_urban</th>\n",
       "      <th>amount_paid</th>\n",
       "    </tr>\n",
       "  </thead>\n",
       "  <tbody>\n",
       "    <tr>\n",
       "      <th>0</th>\n",
       "      <td>3</td>\n",
       "      <td>3</td>\n",
       "      <td>742.57</td>\n",
       "      <td>1</td>\n",
       "      <td>1</td>\n",
       "      <td>1</td>\n",
       "      <td>9675.93</td>\n",
       "      <td>2</td>\n",
       "      <td>0</td>\n",
       "      <td>560.481447</td>\n",
       "    </tr>\n",
       "    <tr>\n",
       "      <th>1</th>\n",
       "      <td>1</td>\n",
       "      <td>5</td>\n",
       "      <td>952.99</td>\n",
       "      <td>0</td>\n",
       "      <td>1</td>\n",
       "      <td>0</td>\n",
       "      <td>35064.79</td>\n",
       "      <td>1</td>\n",
       "      <td>1</td>\n",
       "      <td>633.283679</td>\n",
       "    </tr>\n",
       "    <tr>\n",
       "      <th>2</th>\n",
       "      <td>3</td>\n",
       "      <td>1</td>\n",
       "      <td>761.44</td>\n",
       "      <td>1</td>\n",
       "      <td>1</td>\n",
       "      <td>1</td>\n",
       "      <td>22292.44</td>\n",
       "      <td>0</td>\n",
       "      <td>0</td>\n",
       "      <td>511.879157</td>\n",
       "    </tr>\n",
       "    <tr>\n",
       "      <th>3</th>\n",
       "      <td>0</td>\n",
       "      <td>5</td>\n",
       "      <td>861.32</td>\n",
       "      <td>1</td>\n",
       "      <td>1</td>\n",
       "      <td>0</td>\n",
       "      <td>12139.08</td>\n",
       "      <td>0</td>\n",
       "      <td>0</td>\n",
       "      <td>332.992035</td>\n",
       "    </tr>\n",
       "    <tr>\n",
       "      <th>4</th>\n",
       "      <td>1</td>\n",
       "      <td>8</td>\n",
       "      <td>731.61</td>\n",
       "      <td>0</td>\n",
       "      <td>1</td>\n",
       "      <td>0</td>\n",
       "      <td>17230.10</td>\n",
       "      <td>2</td>\n",
       "      <td>1</td>\n",
       "      <td>658.285625</td>\n",
       "    </tr>\n",
       "    <tr>\n",
       "      <th>...</th>\n",
       "      <td>...</td>\n",
       "      <td>...</td>\n",
       "      <td>...</td>\n",
       "      <td>...</td>\n",
       "      <td>...</td>\n",
       "      <td>...</td>\n",
       "      <td>...</td>\n",
       "      <td>...</td>\n",
       "      <td>...</td>\n",
       "      <td>...</td>\n",
       "    </tr>\n",
       "    <tr>\n",
       "      <th>995</th>\n",
       "      <td>3</td>\n",
       "      <td>0</td>\n",
       "      <td>991.31</td>\n",
       "      <td>0</td>\n",
       "      <td>1</td>\n",
       "      <td>0</td>\n",
       "      <td>12687.26</td>\n",
       "      <td>1</td>\n",
       "      <td>1</td>\n",
       "      <td>655.870111</td>\n",
       "    </tr>\n",
       "    <tr>\n",
       "      <th>996</th>\n",
       "      <td>2</td>\n",
       "      <td>5</td>\n",
       "      <td>847.97</td>\n",
       "      <td>0</td>\n",
       "      <td>1</td>\n",
       "      <td>0</td>\n",
       "      <td>39502.92</td>\n",
       "      <td>0</td>\n",
       "      <td>0</td>\n",
       "      <td>354.472693</td>\n",
       "    </tr>\n",
       "    <tr>\n",
       "      <th>997</th>\n",
       "      <td>2</td>\n",
       "      <td>4</td>\n",
       "      <td>660.94</td>\n",
       "      <td>1</td>\n",
       "      <td>0</td>\n",
       "      <td>0</td>\n",
       "      <td>10145.17</td>\n",
       "      <td>0</td>\n",
       "      <td>1</td>\n",
       "      <td>568.660550</td>\n",
       "    </tr>\n",
       "    <tr>\n",
       "      <th>998</th>\n",
       "      <td>1</td>\n",
       "      <td>1</td>\n",
       "      <td>814.75</td>\n",
       "      <td>0</td>\n",
       "      <td>1</td>\n",
       "      <td>1</td>\n",
       "      <td>15535.05</td>\n",
       "      <td>0</td>\n",
       "      <td>1</td>\n",
       "      <td>653.423314</td>\n",
       "    </tr>\n",
       "    <tr>\n",
       "      <th>999</th>\n",
       "      <td>1</td>\n",
       "      <td>6</td>\n",
       "      <td>835.43</td>\n",
       "      <td>0</td>\n",
       "      <td>0</td>\n",
       "      <td>0</td>\n",
       "      <td>22204.00</td>\n",
       "      <td>0</td>\n",
       "      <td>1</td>\n",
       "      <td>537.801005</td>\n",
       "    </tr>\n",
       "  </tbody>\n",
       "</table>\n",
       "<p>1000 rows × 10 columns</p>\n",
       "</div>"
      ],
      "text/plain": [
       "     num_rooms  num_people  housearea  is_ac  is_tv  is_flat  \\\n",
       "0            3           3     742.57      1      1        1   \n",
       "1            1           5     952.99      0      1        0   \n",
       "2            3           1     761.44      1      1        1   \n",
       "3            0           5     861.32      1      1        0   \n",
       "4            1           8     731.61      0      1        0   \n",
       "..         ...         ...        ...    ...    ...      ...   \n",
       "995          3           0     991.31      0      1        0   \n",
       "996          2           5     847.97      0      1        0   \n",
       "997          2           4     660.94      1      0        0   \n",
       "998          1           1     814.75      0      1        1   \n",
       "999          1           6     835.43      0      0        0   \n",
       "\n",
       "     ave_monthly_income  num_children  is_urban  amount_paid  \n",
       "0               9675.93             2         0   560.481447  \n",
       "1              35064.79             1         1   633.283679  \n",
       "2              22292.44             0         0   511.879157  \n",
       "3              12139.08             0         0   332.992035  \n",
       "4              17230.10             2         1   658.285625  \n",
       "..                  ...           ...       ...          ...  \n",
       "995            12687.26             1         1   655.870111  \n",
       "996            39502.92             0         0   354.472693  \n",
       "997            10145.17             0         1   568.660550  \n",
       "998            15535.05             0         1   653.423314  \n",
       "999            22204.00             0         1   537.801005  \n",
       "\n",
       "[1000 rows x 10 columns]"
      ]
     },
     "execution_count": 2,
     "metadata": {},
     "output_type": "execute_result"
    }
   ],
   "source": [
    "df = pd.read_csv(\"C:\\\\Users\\\\lokesh.s\\\\Documents\\\\Household energy bill data origanl.csv\")\n",
    "df"
   ]
  },
  {
   "cell_type": "code",
   "execution_count": 4,
   "id": "f9c3a4fa-e422-4f13-b601-e8e08557de88",
   "metadata": {},
   "outputs": [
    {
     "data": {
      "text/html": [
       "<div>\n",
       "<style scoped>\n",
       "    .dataframe tbody tr th:only-of-type {\n",
       "        vertical-align: middle;\n",
       "    }\n",
       "\n",
       "    .dataframe tbody tr th {\n",
       "        vertical-align: top;\n",
       "    }\n",
       "\n",
       "    .dataframe thead th {\n",
       "        text-align: right;\n",
       "    }\n",
       "</style>\n",
       "<table border=\"1\" class=\"dataframe\">\n",
       "  <thead>\n",
       "    <tr style=\"text-align: right;\">\n",
       "      <th></th>\n",
       "      <th>num_rooms</th>\n",
       "      <th>num_people</th>\n",
       "      <th>housearea</th>\n",
       "      <th>is_ac</th>\n",
       "      <th>is_tv</th>\n",
       "      <th>is_flat</th>\n",
       "      <th>ave_monthly_income</th>\n",
       "      <th>num_children</th>\n",
       "      <th>is_urban</th>\n",
       "      <th>amount_paid</th>\n",
       "    </tr>\n",
       "  </thead>\n",
       "  <tbody>\n",
       "  </tbody>\n",
       "</table>\n",
       "</div>"
      ],
      "text/plain": [
       "Empty DataFrame\n",
       "Columns: [num_rooms, num_people, housearea, is_ac, is_tv, is_flat, ave_monthly_income, num_children, is_urban, amount_paid]\n",
       "Index: []"
      ]
     },
     "execution_count": 4,
     "metadata": {},
     "output_type": "execute_result"
    }
   ],
   "source": [
    "df[(df[\"ave_monthly_income\"]=='-')]"
   ]
  },
  {
   "cell_type": "code",
   "execution_count": null,
   "id": "1b15f090-5c48-4a66-bb53-310f759336ff",
   "metadata": {},
   "outputs": [],
   "source": []
  },
  {
   "cell_type": "code",
   "execution_count": 5,
   "id": "e7be2214-6392-460c-9317-5f0069fe76a5",
   "metadata": {},
   "outputs": [],
   "source": [
    "df=df.replace(-1,0)"
   ]
  },
  {
   "cell_type": "code",
   "execution_count": 6,
   "id": "97ddb25e-1c75-4173-996e-df7d00683420",
   "metadata": {},
   "outputs": [],
   "source": [
    "df['ave_monthly_income']=df['ave_monthly_income'].apply(lambda x:0 if x<0 else x)"
   ]
  },
  {
   "cell_type": "code",
   "execution_count": 9,
   "id": "678a2773-d592-4845-8b2e-42f8ca2a3709",
   "metadata": {},
   "outputs": [
    {
     "data": {
      "text/plain": [
       "390        0.00\n",
       "391    13481.07\n",
       "392     5200.62\n",
       "Name: ave_monthly_income, dtype: float64"
      ]
     },
     "execution_count": 9,
     "metadata": {},
     "output_type": "execute_result"
    }
   ],
   "source": [
    "df['ave_monthly_income'][390:393]"
   ]
  },
  {
   "cell_type": "code",
   "execution_count": 12,
   "id": "7aadf8bd-6e69-437b-a833-9ff94cc9023b",
   "metadata": {},
   "outputs": [
    {
     "data": {
      "text/plain": [
       "ave_monthly_income\n",
       "0.00        6\n",
       "9675.93     1\n",
       "35064.79    1\n",
       "22292.44    1\n",
       "12139.08    1\n",
       "           ..\n",
       "12687.26    1\n",
       "39502.92    1\n",
       "10145.17    1\n",
       "15535.05    1\n",
       "22204.00    1\n",
       "Name: count, Length: 995, dtype: int64"
      ]
     },
     "execution_count": 12,
     "metadata": {},
     "output_type": "execute_result"
    }
   ],
   "source": [
    "df['ave_monthly_income'].value_counts()"
   ]
  },
  {
   "cell_type": "code",
   "execution_count": 4,
   "id": "1ffa370c-3086-4b84-9217-077e1e7bcd9c",
   "metadata": {},
   "outputs": [],
   "source": [
    "df.to_excel('lokesh household.xlsx',index=False)"
   ]
  },
  {
   "cell_type": "code",
   "execution_count": null,
   "id": "d598b59e-f4e7-427a-9ddd-42cc203b23da",
   "metadata": {},
   "outputs": [],
   "source": []
  }
 ],
 "metadata": {
  "kernelspec": {
   "display_name": "Python 3 (ipykernel)",
   "language": "python",
   "name": "python3"
  },
  "language_info": {
   "codemirror_mode": {
    "name": "ipython",
    "version": 3
   },
   "file_extension": ".py",
   "mimetype": "text/x-python",
   "name": "python",
   "nbconvert_exporter": "python",
   "pygments_lexer": "ipython3",
   "version": "3.12.4"
  }
 },
 "nbformat": 4,
 "nbformat_minor": 5
}
